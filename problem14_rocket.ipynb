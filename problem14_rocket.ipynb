{
 "cells": [
  {
   "cell_type": "markdown",
   "id": "11973244",
   "metadata": {},
   "source": [
    "Задача 14 (Полёт ракеты)"
   ]
  },
  {
   "cell_type": "markdown",
   "id": "7ddc1ead",
   "metadata": {},
   "source": [
    "Проверка"
   ]
  },
  {
   "cell_type": "code",
   "execution_count": 1,
   "id": "9b356bcc",
   "metadata": {},
   "outputs": [
    {
     "name": "stdout",
     "output_type": "stream",
     "text": [
      "3.2272718436925985\n",
      "3.225049606610152\n",
      "3.243086396133263\n",
      "3.2483250735077185\n",
      "3.2514125184996345\n",
      "3.2669230990176823\n",
      "3.274893202616876\n",
      "3.2803831524952547\n",
      "3.290860571176928\n",
      "3.29885438943152\n",
      "       h         e(h)        e/h^3        α\n",
      "0.1000000000 0.0252107841 25.2107841060 3.0211\n",
      "0.0900000000 0.0183378652 25.1548219703 2.8469\n",
      "0.0800000000 0.0131136771 25.6126506677 2.9608\n",
      "0.0700000000 0.0088312824 25.7471791493 2.9800\n",
      "0.0600000000 0.0055785877 25.8267949901 2.9149\n",
      "0.0500000000 0.0032788133 26.2305063787 2.9643\n",
      "0.0400000000 0.0016921857 26.4404015641 2.9809\n",
      "0.0300000000 0.0007178208 26.5859572245 2.9742\n",
      "0.0200000000 0.0002149278 26.8659737932 2.9885\n",
      "0.0100000000 0.0000270816 27.0815961798    --  \n"
     ]
    },
    {
     "data": {
      "application/vnd.plotly.v1+json": {
       "config": {
        "plotlyServerURL": "https://plot.ly"
       },
       "data": [
        {
         "mode": "lines+markers",
         "name": "e(h)",
         "type": "scatter",
         "x": {
          "bdata": "mpmZmZmZuT8K16NwPQq3P3sUrkfherQ/7FG4HoXrsT+4HoXrUbiuP5mZmZmZmak/ehSuR+F6pD+4HoXrUbieP3gUrkfhepQ/exSuR+F6hD8=",
          "dtype": "f8"
         },
         "y": [
          0.0252107841060365,
          0.018337865216359717,
          0.013113677141873836,
          0.008831282448198863,
          0.00557858771786357,
          0.003278813297335148,
          0.0016921857001008789,
          0.0007178208450611123,
          0.00021492779034559817,
          0.000027081596179812095
         ]
        }
       ],
       "layout": {
        "template": {
         "data": {
          "bar": [
           {
            "error_x": {
             "color": "#2a3f5f"
            },
            "error_y": {
             "color": "#2a3f5f"
            },
            "marker": {
             "line": {
              "color": "#E5ECF6",
              "width": 0.5
             },
             "pattern": {
              "fillmode": "overlay",
              "size": 10,
              "solidity": 0.2
             }
            },
            "type": "bar"
           }
          ],
          "barpolar": [
           {
            "marker": {
             "line": {
              "color": "#E5ECF6",
              "width": 0.5
             },
             "pattern": {
              "fillmode": "overlay",
              "size": 10,
              "solidity": 0.2
             }
            },
            "type": "barpolar"
           }
          ],
          "carpet": [
           {
            "aaxis": {
             "endlinecolor": "#2a3f5f",
             "gridcolor": "white",
             "linecolor": "white",
             "minorgridcolor": "white",
             "startlinecolor": "#2a3f5f"
            },
            "baxis": {
             "endlinecolor": "#2a3f5f",
             "gridcolor": "white",
             "linecolor": "white",
             "minorgridcolor": "white",
             "startlinecolor": "#2a3f5f"
            },
            "type": "carpet"
           }
          ],
          "choropleth": [
           {
            "colorbar": {
             "outlinewidth": 0,
             "ticks": ""
            },
            "type": "choropleth"
           }
          ],
          "contour": [
           {
            "colorbar": {
             "outlinewidth": 0,
             "ticks": ""
            },
            "colorscale": [
             [
              0,
              "#0d0887"
             ],
             [
              0.1111111111111111,
              "#46039f"
             ],
             [
              0.2222222222222222,
              "#7201a8"
             ],
             [
              0.3333333333333333,
              "#9c179e"
             ],
             [
              0.4444444444444444,
              "#bd3786"
             ],
             [
              0.5555555555555556,
              "#d8576b"
             ],
             [
              0.6666666666666666,
              "#ed7953"
             ],
             [
              0.7777777777777778,
              "#fb9f3a"
             ],
             [
              0.8888888888888888,
              "#fdca26"
             ],
             [
              1,
              "#f0f921"
             ]
            ],
            "type": "contour"
           }
          ],
          "contourcarpet": [
           {
            "colorbar": {
             "outlinewidth": 0,
             "ticks": ""
            },
            "type": "contourcarpet"
           }
          ],
          "heatmap": [
           {
            "colorbar": {
             "outlinewidth": 0,
             "ticks": ""
            },
            "colorscale": [
             [
              0,
              "#0d0887"
             ],
             [
              0.1111111111111111,
              "#46039f"
             ],
             [
              0.2222222222222222,
              "#7201a8"
             ],
             [
              0.3333333333333333,
              "#9c179e"
             ],
             [
              0.4444444444444444,
              "#bd3786"
             ],
             [
              0.5555555555555556,
              "#d8576b"
             ],
             [
              0.6666666666666666,
              "#ed7953"
             ],
             [
              0.7777777777777778,
              "#fb9f3a"
             ],
             [
              0.8888888888888888,
              "#fdca26"
             ],
             [
              1,
              "#f0f921"
             ]
            ],
            "type": "heatmap"
           }
          ],
          "histogram": [
           {
            "marker": {
             "pattern": {
              "fillmode": "overlay",
              "size": 10,
              "solidity": 0.2
             }
            },
            "type": "histogram"
           }
          ],
          "histogram2d": [
           {
            "colorbar": {
             "outlinewidth": 0,
             "ticks": ""
            },
            "colorscale": [
             [
              0,
              "#0d0887"
             ],
             [
              0.1111111111111111,
              "#46039f"
             ],
             [
              0.2222222222222222,
              "#7201a8"
             ],
             [
              0.3333333333333333,
              "#9c179e"
             ],
             [
              0.4444444444444444,
              "#bd3786"
             ],
             [
              0.5555555555555556,
              "#d8576b"
             ],
             [
              0.6666666666666666,
              "#ed7953"
             ],
             [
              0.7777777777777778,
              "#fb9f3a"
             ],
             [
              0.8888888888888888,
              "#fdca26"
             ],
             [
              1,
              "#f0f921"
             ]
            ],
            "type": "histogram2d"
           }
          ],
          "histogram2dcontour": [
           {
            "colorbar": {
             "outlinewidth": 0,
             "ticks": ""
            },
            "colorscale": [
             [
              0,
              "#0d0887"
             ],
             [
              0.1111111111111111,
              "#46039f"
             ],
             [
              0.2222222222222222,
              "#7201a8"
             ],
             [
              0.3333333333333333,
              "#9c179e"
             ],
             [
              0.4444444444444444,
              "#bd3786"
             ],
             [
              0.5555555555555556,
              "#d8576b"
             ],
             [
              0.6666666666666666,
              "#ed7953"
             ],
             [
              0.7777777777777778,
              "#fb9f3a"
             ],
             [
              0.8888888888888888,
              "#fdca26"
             ],
             [
              1,
              "#f0f921"
             ]
            ],
            "type": "histogram2dcontour"
           }
          ],
          "mesh3d": [
           {
            "colorbar": {
             "outlinewidth": 0,
             "ticks": ""
            },
            "type": "mesh3d"
           }
          ],
          "parcoords": [
           {
            "line": {
             "colorbar": {
              "outlinewidth": 0,
              "ticks": ""
             }
            },
            "type": "parcoords"
           }
          ],
          "pie": [
           {
            "automargin": true,
            "type": "pie"
           }
          ],
          "scatter": [
           {
            "fillpattern": {
             "fillmode": "overlay",
             "size": 10,
             "solidity": 0.2
            },
            "type": "scatter"
           }
          ],
          "scatter3d": [
           {
            "line": {
             "colorbar": {
              "outlinewidth": 0,
              "ticks": ""
             }
            },
            "marker": {
             "colorbar": {
              "outlinewidth": 0,
              "ticks": ""
             }
            },
            "type": "scatter3d"
           }
          ],
          "scattercarpet": [
           {
            "marker": {
             "colorbar": {
              "outlinewidth": 0,
              "ticks": ""
             }
            },
            "type": "scattercarpet"
           }
          ],
          "scattergeo": [
           {
            "marker": {
             "colorbar": {
              "outlinewidth": 0,
              "ticks": ""
             }
            },
            "type": "scattergeo"
           }
          ],
          "scattergl": [
           {
            "marker": {
             "colorbar": {
              "outlinewidth": 0,
              "ticks": ""
             }
            },
            "type": "scattergl"
           }
          ],
          "scattermap": [
           {
            "marker": {
             "colorbar": {
              "outlinewidth": 0,
              "ticks": ""
             }
            },
            "type": "scattermap"
           }
          ],
          "scattermapbox": [
           {
            "marker": {
             "colorbar": {
              "outlinewidth": 0,
              "ticks": ""
             }
            },
            "type": "scattermapbox"
           }
          ],
          "scatterpolar": [
           {
            "marker": {
             "colorbar": {
              "outlinewidth": 0,
              "ticks": ""
             }
            },
            "type": "scatterpolar"
           }
          ],
          "scatterpolargl": [
           {
            "marker": {
             "colorbar": {
              "outlinewidth": 0,
              "ticks": ""
             }
            },
            "type": "scatterpolargl"
           }
          ],
          "scatterternary": [
           {
            "marker": {
             "colorbar": {
              "outlinewidth": 0,
              "ticks": ""
             }
            },
            "type": "scatterternary"
           }
          ],
          "surface": [
           {
            "colorbar": {
             "outlinewidth": 0,
             "ticks": ""
            },
            "colorscale": [
             [
              0,
              "#0d0887"
             ],
             [
              0.1111111111111111,
              "#46039f"
             ],
             [
              0.2222222222222222,
              "#7201a8"
             ],
             [
              0.3333333333333333,
              "#9c179e"
             ],
             [
              0.4444444444444444,
              "#bd3786"
             ],
             [
              0.5555555555555556,
              "#d8576b"
             ],
             [
              0.6666666666666666,
              "#ed7953"
             ],
             [
              0.7777777777777778,
              "#fb9f3a"
             ],
             [
              0.8888888888888888,
              "#fdca26"
             ],
             [
              1,
              "#f0f921"
             ]
            ],
            "type": "surface"
           }
          ],
          "table": [
           {
            "cells": {
             "fill": {
              "color": "#EBF0F8"
             },
             "line": {
              "color": "white"
             }
            },
            "header": {
             "fill": {
              "color": "#C8D4E3"
             },
             "line": {
              "color": "white"
             }
            },
            "type": "table"
           }
          ]
         },
         "layout": {
          "annotationdefaults": {
           "arrowcolor": "#2a3f5f",
           "arrowhead": 0,
           "arrowwidth": 1
          },
          "autotypenumbers": "strict",
          "coloraxis": {
           "colorbar": {
            "outlinewidth": 0,
            "ticks": ""
           }
          },
          "colorscale": {
           "diverging": [
            [
             0,
             "#8e0152"
            ],
            [
             0.1,
             "#c51b7d"
            ],
            [
             0.2,
             "#de77ae"
            ],
            [
             0.3,
             "#f1b6da"
            ],
            [
             0.4,
             "#fde0ef"
            ],
            [
             0.5,
             "#f7f7f7"
            ],
            [
             0.6,
             "#e6f5d0"
            ],
            [
             0.7,
             "#b8e186"
            ],
            [
             0.8,
             "#7fbc41"
            ],
            [
             0.9,
             "#4d9221"
            ],
            [
             1,
             "#276419"
            ]
           ],
           "sequential": [
            [
             0,
             "#0d0887"
            ],
            [
             0.1111111111111111,
             "#46039f"
            ],
            [
             0.2222222222222222,
             "#7201a8"
            ],
            [
             0.3333333333333333,
             "#9c179e"
            ],
            [
             0.4444444444444444,
             "#bd3786"
            ],
            [
             0.5555555555555556,
             "#d8576b"
            ],
            [
             0.6666666666666666,
             "#ed7953"
            ],
            [
             0.7777777777777778,
             "#fb9f3a"
            ],
            [
             0.8888888888888888,
             "#fdca26"
            ],
            [
             1,
             "#f0f921"
            ]
           ],
           "sequentialminus": [
            [
             0,
             "#0d0887"
            ],
            [
             0.1111111111111111,
             "#46039f"
            ],
            [
             0.2222222222222222,
             "#7201a8"
            ],
            [
             0.3333333333333333,
             "#9c179e"
            ],
            [
             0.4444444444444444,
             "#bd3786"
            ],
            [
             0.5555555555555556,
             "#d8576b"
            ],
            [
             0.6666666666666666,
             "#ed7953"
            ],
            [
             0.7777777777777778,
             "#fb9f3a"
            ],
            [
             0.8888888888888888,
             "#fdca26"
            ],
            [
             1,
             "#f0f921"
            ]
           ]
          },
          "colorway": [
           "#636efa",
           "#EF553B",
           "#00cc96",
           "#ab63fa",
           "#FFA15A",
           "#19d3f3",
           "#FF6692",
           "#B6E880",
           "#FF97FF",
           "#FECB52"
          ],
          "font": {
           "color": "#2a3f5f"
          },
          "geo": {
           "bgcolor": "white",
           "lakecolor": "white",
           "landcolor": "#E5ECF6",
           "showlakes": true,
           "showland": true,
           "subunitcolor": "white"
          },
          "hoverlabel": {
           "align": "left"
          },
          "hovermode": "closest",
          "mapbox": {
           "style": "light"
          },
          "paper_bgcolor": "white",
          "plot_bgcolor": "#E5ECF6",
          "polar": {
           "angularaxis": {
            "gridcolor": "white",
            "linecolor": "white",
            "ticks": ""
           },
           "bgcolor": "#E5ECF6",
           "radialaxis": {
            "gridcolor": "white",
            "linecolor": "white",
            "ticks": ""
           }
          },
          "scene": {
           "xaxis": {
            "backgroundcolor": "#E5ECF6",
            "gridcolor": "white",
            "gridwidth": 2,
            "linecolor": "white",
            "showbackground": true,
            "ticks": "",
            "zerolinecolor": "white"
           },
           "yaxis": {
            "backgroundcolor": "#E5ECF6",
            "gridcolor": "white",
            "gridwidth": 2,
            "linecolor": "white",
            "showbackground": true,
            "ticks": "",
            "zerolinecolor": "white"
           },
           "zaxis": {
            "backgroundcolor": "#E5ECF6",
            "gridcolor": "white",
            "gridwidth": 2,
            "linecolor": "white",
            "showbackground": true,
            "ticks": "",
            "zerolinecolor": "white"
           }
          },
          "shapedefaults": {
           "line": {
            "color": "#2a3f5f"
           }
          },
          "ternary": {
           "aaxis": {
            "gridcolor": "white",
            "linecolor": "white",
            "ticks": ""
           },
           "baxis": {
            "gridcolor": "white",
            "linecolor": "white",
            "ticks": ""
           },
           "bgcolor": "#E5ECF6",
           "caxis": {
            "gridcolor": "white",
            "linecolor": "white",
            "ticks": ""
           }
          },
          "title": {
           "x": 0.05
          },
          "xaxis": {
           "automargin": true,
           "gridcolor": "white",
           "linecolor": "white",
           "ticks": "",
           "title": {
            "standoff": 15
           },
           "zerolinecolor": "white",
           "zerolinewidth": 2
          },
          "yaxis": {
           "automargin": true,
           "gridcolor": "white",
           "linecolor": "white",
           "ticks": "",
           "title": {
            "standoff": 15
           },
           "zerolinecolor": "white",
           "zerolinewidth": 2
          }
         }
        },
        "title": {
         "text": "max|e| vs h (RK3 тест на [0,4])"
        },
        "xaxis": {
         "tickformat": ".10f",
         "title": {
          "text": "h"
         },
         "type": "log"
        },
        "yaxis": {
         "tickformat": ".10f",
         "title": {
          "text": "max|e|"
         },
         "type": "log"
        }
       }
      }
     },
     "metadata": {},
     "output_type": "display_data"
    },
    {
     "data": {
      "application/vnd.plotly.v1+json": {
       "config": {
        "plotlyServerURL": "https://plot.ly"
       },
       "data": [
        {
         "mode": "lines+markers",
         "name": "e/h^3",
         "type": "scatter",
         "x": {
          "bdata": "mpmZmZmZuT8K16NwPQq3P3sUrkfherQ/7FG4HoXrsT+4HoXrUbiuP5mZmZmZmak/ehSuR+F6pD+4HoXrUbieP3gUrkfhepQ/exSuR+F6hD8=",
          "dtype": "f8"
         },
         "y": [
          25.210784106036492,
          25.154821970315115,
          25.61265066772233,
          25.747179149267815,
          25.826794990109125,
          26.230506378681188,
          26.440401564076243,
          26.585957224485647,
          26.865973793199814,
          27.08159617981209
         ]
        }
       ],
       "layout": {
        "template": {
         "data": {
          "bar": [
           {
            "error_x": {
             "color": "#2a3f5f"
            },
            "error_y": {
             "color": "#2a3f5f"
            },
            "marker": {
             "line": {
              "color": "#E5ECF6",
              "width": 0.5
             },
             "pattern": {
              "fillmode": "overlay",
              "size": 10,
              "solidity": 0.2
             }
            },
            "type": "bar"
           }
          ],
          "barpolar": [
           {
            "marker": {
             "line": {
              "color": "#E5ECF6",
              "width": 0.5
             },
             "pattern": {
              "fillmode": "overlay",
              "size": 10,
              "solidity": 0.2
             }
            },
            "type": "barpolar"
           }
          ],
          "carpet": [
           {
            "aaxis": {
             "endlinecolor": "#2a3f5f",
             "gridcolor": "white",
             "linecolor": "white",
             "minorgridcolor": "white",
             "startlinecolor": "#2a3f5f"
            },
            "baxis": {
             "endlinecolor": "#2a3f5f",
             "gridcolor": "white",
             "linecolor": "white",
             "minorgridcolor": "white",
             "startlinecolor": "#2a3f5f"
            },
            "type": "carpet"
           }
          ],
          "choropleth": [
           {
            "colorbar": {
             "outlinewidth": 0,
             "ticks": ""
            },
            "type": "choropleth"
           }
          ],
          "contour": [
           {
            "colorbar": {
             "outlinewidth": 0,
             "ticks": ""
            },
            "colorscale": [
             [
              0,
              "#0d0887"
             ],
             [
              0.1111111111111111,
              "#46039f"
             ],
             [
              0.2222222222222222,
              "#7201a8"
             ],
             [
              0.3333333333333333,
              "#9c179e"
             ],
             [
              0.4444444444444444,
              "#bd3786"
             ],
             [
              0.5555555555555556,
              "#d8576b"
             ],
             [
              0.6666666666666666,
              "#ed7953"
             ],
             [
              0.7777777777777778,
              "#fb9f3a"
             ],
             [
              0.8888888888888888,
              "#fdca26"
             ],
             [
              1,
              "#f0f921"
             ]
            ],
            "type": "contour"
           }
          ],
          "contourcarpet": [
           {
            "colorbar": {
             "outlinewidth": 0,
             "ticks": ""
            },
            "type": "contourcarpet"
           }
          ],
          "heatmap": [
           {
            "colorbar": {
             "outlinewidth": 0,
             "ticks": ""
            },
            "colorscale": [
             [
              0,
              "#0d0887"
             ],
             [
              0.1111111111111111,
              "#46039f"
             ],
             [
              0.2222222222222222,
              "#7201a8"
             ],
             [
              0.3333333333333333,
              "#9c179e"
             ],
             [
              0.4444444444444444,
              "#bd3786"
             ],
             [
              0.5555555555555556,
              "#d8576b"
             ],
             [
              0.6666666666666666,
              "#ed7953"
             ],
             [
              0.7777777777777778,
              "#fb9f3a"
             ],
             [
              0.8888888888888888,
              "#fdca26"
             ],
             [
              1,
              "#f0f921"
             ]
            ],
            "type": "heatmap"
           }
          ],
          "histogram": [
           {
            "marker": {
             "pattern": {
              "fillmode": "overlay",
              "size": 10,
              "solidity": 0.2
             }
            },
            "type": "histogram"
           }
          ],
          "histogram2d": [
           {
            "colorbar": {
             "outlinewidth": 0,
             "ticks": ""
            },
            "colorscale": [
             [
              0,
              "#0d0887"
             ],
             [
              0.1111111111111111,
              "#46039f"
             ],
             [
              0.2222222222222222,
              "#7201a8"
             ],
             [
              0.3333333333333333,
              "#9c179e"
             ],
             [
              0.4444444444444444,
              "#bd3786"
             ],
             [
              0.5555555555555556,
              "#d8576b"
             ],
             [
              0.6666666666666666,
              "#ed7953"
             ],
             [
              0.7777777777777778,
              "#fb9f3a"
             ],
             [
              0.8888888888888888,
              "#fdca26"
             ],
             [
              1,
              "#f0f921"
             ]
            ],
            "type": "histogram2d"
           }
          ],
          "histogram2dcontour": [
           {
            "colorbar": {
             "outlinewidth": 0,
             "ticks": ""
            },
            "colorscale": [
             [
              0,
              "#0d0887"
             ],
             [
              0.1111111111111111,
              "#46039f"
             ],
             [
              0.2222222222222222,
              "#7201a8"
             ],
             [
              0.3333333333333333,
              "#9c179e"
             ],
             [
              0.4444444444444444,
              "#bd3786"
             ],
             [
              0.5555555555555556,
              "#d8576b"
             ],
             [
              0.6666666666666666,
              "#ed7953"
             ],
             [
              0.7777777777777778,
              "#fb9f3a"
             ],
             [
              0.8888888888888888,
              "#fdca26"
             ],
             [
              1,
              "#f0f921"
             ]
            ],
            "type": "histogram2dcontour"
           }
          ],
          "mesh3d": [
           {
            "colorbar": {
             "outlinewidth": 0,
             "ticks": ""
            },
            "type": "mesh3d"
           }
          ],
          "parcoords": [
           {
            "line": {
             "colorbar": {
              "outlinewidth": 0,
              "ticks": ""
             }
            },
            "type": "parcoords"
           }
          ],
          "pie": [
           {
            "automargin": true,
            "type": "pie"
           }
          ],
          "scatter": [
           {
            "fillpattern": {
             "fillmode": "overlay",
             "size": 10,
             "solidity": 0.2
            },
            "type": "scatter"
           }
          ],
          "scatter3d": [
           {
            "line": {
             "colorbar": {
              "outlinewidth": 0,
              "ticks": ""
             }
            },
            "marker": {
             "colorbar": {
              "outlinewidth": 0,
              "ticks": ""
             }
            },
            "type": "scatter3d"
           }
          ],
          "scattercarpet": [
           {
            "marker": {
             "colorbar": {
              "outlinewidth": 0,
              "ticks": ""
             }
            },
            "type": "scattercarpet"
           }
          ],
          "scattergeo": [
           {
            "marker": {
             "colorbar": {
              "outlinewidth": 0,
              "ticks": ""
             }
            },
            "type": "scattergeo"
           }
          ],
          "scattergl": [
           {
            "marker": {
             "colorbar": {
              "outlinewidth": 0,
              "ticks": ""
             }
            },
            "type": "scattergl"
           }
          ],
          "scattermap": [
           {
            "marker": {
             "colorbar": {
              "outlinewidth": 0,
              "ticks": ""
             }
            },
            "type": "scattermap"
           }
          ],
          "scattermapbox": [
           {
            "marker": {
             "colorbar": {
              "outlinewidth": 0,
              "ticks": ""
             }
            },
            "type": "scattermapbox"
           }
          ],
          "scatterpolar": [
           {
            "marker": {
             "colorbar": {
              "outlinewidth": 0,
              "ticks": ""
             }
            },
            "type": "scatterpolar"
           }
          ],
          "scatterpolargl": [
           {
            "marker": {
             "colorbar": {
              "outlinewidth": 0,
              "ticks": ""
             }
            },
            "type": "scatterpolargl"
           }
          ],
          "scatterternary": [
           {
            "marker": {
             "colorbar": {
              "outlinewidth": 0,
              "ticks": ""
             }
            },
            "type": "scatterternary"
           }
          ],
          "surface": [
           {
            "colorbar": {
             "outlinewidth": 0,
             "ticks": ""
            },
            "colorscale": [
             [
              0,
              "#0d0887"
             ],
             [
              0.1111111111111111,
              "#46039f"
             ],
             [
              0.2222222222222222,
              "#7201a8"
             ],
             [
              0.3333333333333333,
              "#9c179e"
             ],
             [
              0.4444444444444444,
              "#bd3786"
             ],
             [
              0.5555555555555556,
              "#d8576b"
             ],
             [
              0.6666666666666666,
              "#ed7953"
             ],
             [
              0.7777777777777778,
              "#fb9f3a"
             ],
             [
              0.8888888888888888,
              "#fdca26"
             ],
             [
              1,
              "#f0f921"
             ]
            ],
            "type": "surface"
           }
          ],
          "table": [
           {
            "cells": {
             "fill": {
              "color": "#EBF0F8"
             },
             "line": {
              "color": "white"
             }
            },
            "header": {
             "fill": {
              "color": "#C8D4E3"
             },
             "line": {
              "color": "white"
             }
            },
            "type": "table"
           }
          ]
         },
         "layout": {
          "annotationdefaults": {
           "arrowcolor": "#2a3f5f",
           "arrowhead": 0,
           "arrowwidth": 1
          },
          "autotypenumbers": "strict",
          "coloraxis": {
           "colorbar": {
            "outlinewidth": 0,
            "ticks": ""
           }
          },
          "colorscale": {
           "diverging": [
            [
             0,
             "#8e0152"
            ],
            [
             0.1,
             "#c51b7d"
            ],
            [
             0.2,
             "#de77ae"
            ],
            [
             0.3,
             "#f1b6da"
            ],
            [
             0.4,
             "#fde0ef"
            ],
            [
             0.5,
             "#f7f7f7"
            ],
            [
             0.6,
             "#e6f5d0"
            ],
            [
             0.7,
             "#b8e186"
            ],
            [
             0.8,
             "#7fbc41"
            ],
            [
             0.9,
             "#4d9221"
            ],
            [
             1,
             "#276419"
            ]
           ],
           "sequential": [
            [
             0,
             "#0d0887"
            ],
            [
             0.1111111111111111,
             "#46039f"
            ],
            [
             0.2222222222222222,
             "#7201a8"
            ],
            [
             0.3333333333333333,
             "#9c179e"
            ],
            [
             0.4444444444444444,
             "#bd3786"
            ],
            [
             0.5555555555555556,
             "#d8576b"
            ],
            [
             0.6666666666666666,
             "#ed7953"
            ],
            [
             0.7777777777777778,
             "#fb9f3a"
            ],
            [
             0.8888888888888888,
             "#fdca26"
            ],
            [
             1,
             "#f0f921"
            ]
           ],
           "sequentialminus": [
            [
             0,
             "#0d0887"
            ],
            [
             0.1111111111111111,
             "#46039f"
            ],
            [
             0.2222222222222222,
             "#7201a8"
            ],
            [
             0.3333333333333333,
             "#9c179e"
            ],
            [
             0.4444444444444444,
             "#bd3786"
            ],
            [
             0.5555555555555556,
             "#d8576b"
            ],
            [
             0.6666666666666666,
             "#ed7953"
            ],
            [
             0.7777777777777778,
             "#fb9f3a"
            ],
            [
             0.8888888888888888,
             "#fdca26"
            ],
            [
             1,
             "#f0f921"
            ]
           ]
          },
          "colorway": [
           "#636efa",
           "#EF553B",
           "#00cc96",
           "#ab63fa",
           "#FFA15A",
           "#19d3f3",
           "#FF6692",
           "#B6E880",
           "#FF97FF",
           "#FECB52"
          ],
          "font": {
           "color": "#2a3f5f"
          },
          "geo": {
           "bgcolor": "white",
           "lakecolor": "white",
           "landcolor": "#E5ECF6",
           "showlakes": true,
           "showland": true,
           "subunitcolor": "white"
          },
          "hoverlabel": {
           "align": "left"
          },
          "hovermode": "closest",
          "mapbox": {
           "style": "light"
          },
          "paper_bgcolor": "white",
          "plot_bgcolor": "#E5ECF6",
          "polar": {
           "angularaxis": {
            "gridcolor": "white",
            "linecolor": "white",
            "ticks": ""
           },
           "bgcolor": "#E5ECF6",
           "radialaxis": {
            "gridcolor": "white",
            "linecolor": "white",
            "ticks": ""
           }
          },
          "scene": {
           "xaxis": {
            "backgroundcolor": "#E5ECF6",
            "gridcolor": "white",
            "gridwidth": 2,
            "linecolor": "white",
            "showbackground": true,
            "ticks": "",
            "zerolinecolor": "white"
           },
           "yaxis": {
            "backgroundcolor": "#E5ECF6",
            "gridcolor": "white",
            "gridwidth": 2,
            "linecolor": "white",
            "showbackground": true,
            "ticks": "",
            "zerolinecolor": "white"
           },
           "zaxis": {
            "backgroundcolor": "#E5ECF6",
            "gridcolor": "white",
            "gridwidth": 2,
            "linecolor": "white",
            "showbackground": true,
            "ticks": "",
            "zerolinecolor": "white"
           }
          },
          "shapedefaults": {
           "line": {
            "color": "#2a3f5f"
           }
          },
          "ternary": {
           "aaxis": {
            "gridcolor": "white",
            "linecolor": "white",
            "ticks": ""
           },
           "baxis": {
            "gridcolor": "white",
            "linecolor": "white",
            "ticks": ""
           },
           "bgcolor": "#E5ECF6",
           "caxis": {
            "gridcolor": "white",
            "linecolor": "white",
            "ticks": ""
           }
          },
          "title": {
           "x": 0.05
          },
          "xaxis": {
           "automargin": true,
           "gridcolor": "white",
           "linecolor": "white",
           "ticks": "",
           "title": {
            "standoff": 15
           },
           "zerolinecolor": "white",
           "zerolinewidth": 2
          },
          "yaxis": {
           "automargin": true,
           "gridcolor": "white",
           "linecolor": "white",
           "ticks": "",
           "title": {
            "standoff": 15
           },
           "zerolinecolor": "white",
           "zerolinewidth": 2
          }
         }
        },
        "title": {
         "text": "e(h)/h^3 vs h (проверка порядка)"
        },
        "xaxis": {
         "tickformat": ".10f",
         "title": {
          "text": "h"
         },
         "type": "log"
        },
        "yaxis": {
         "tickformat": ".10f",
         "title": {
          "text": "e/h^3"
         },
         "type": "log"
        }
       }
      }
     },
     "metadata": {},
     "output_type": "display_data"
    }
   ],
   "source": [
    "import numpy as np\n",
    "import plotly.graph_objects as go\n",
    "\n",
    "\n",
    "def test_rhs(t, y):\n",
    "    return np.array([np.exp(2*t)*y[1], -np.exp(-2*t)*y[0]])\n",
    "\n",
    "\n",
    "def test_exact(t):\n",
    "    return np.array([np.exp(t), np.exp(-t)])\n",
    "\n",
    "\n",
    "def rk3_step(f, t, y, h):\n",
    "    k1 = f(t, y)\n",
    "    k2 = f(t + 0.5*h, y + 0.5*h*k1)\n",
    "    k3 = f(t + h,   y - h*k1 + 2*h*k2)\n",
    "    return y + (h/6)*(k1 + 4*k2 + k3)\n",
    "\n",
    "\n",
    "hs = np.linspace(0.1, 0.01, 10)\n",
    "t_end = 4.0\n",
    "\n",
    "errors = []\n",
    "Cs = []\n",
    "alphas = []\n",
    "\n",
    "\n",
    "for h in hs:\n",
    "    t = 0.0\n",
    "    y = np.array([1.0, 1.0])\n",
    "    while t < t_end:\n",
    "        h_step = h if t + h <= t_end else t_end - t\n",
    "        y = rk3_step(test_rhs, t, y, h_step)\n",
    "        t += h_step\n",
    "    err = np.max(np.abs(y - test_exact(t_end)))\n",
    "    errors.append(err)\n",
    "    Cs.append(err / h**3)\n",
    "\n",
    "for i in range(len(hs)-1):\n",
    "    α = np.log(errors[i]/errors[i+1]) / np.log(hs[i]/hs[i+1])\n",
    "    alphas.append(α)\n",
    "\n",
    "for i in Cs:\n",
    "    print(np.log(i))\n",
    "print(f\"{'h':>8} {'e(h)':>12} {'e/h^3':>12} {'α':>8}\")\n",
    "for i, h in enumerate(hs):\n",
    "    a_str = f\"{alphas[i]:.4f}\" if i < len(alphas) else \"   --  \"\n",
    "    print(f\"{h:8.10f} {errors[i]:12.10f} {Cs[i]:12.10f} {a_str}\")\n",
    "\n",
    "fig1 = go.Figure(go.Scatter(\n",
    "    x=hs, y=errors, mode='lines+markers', name='e(h)'\n",
    "))\n",
    "fig1.update_layout(\n",
    "    title='max|e| vs h (RK3 тест на [0,4])',\n",
    "    xaxis=dict(title='h', type='log', tickformat='.10f'),\n",
    "    yaxis=dict(title='max|e|', type='log', tickformat='.10f')\n",
    ")\n",
    "fig1.show()\n",
    "\n",
    "fig2 = go.Figure(go.Scatter(\n",
    "    x=hs, y=Cs, mode='lines+markers', name='e/h^3'\n",
    "))\n",
    "fig2.update_layout(\n",
    "    title='e(h)/h^3 vs h (проверка порядка)',\n",
    "    xaxis=dict(title='h', type='log', tickformat='.10f'),\n",
    "    yaxis=dict(title='e/h^3', type='log', tickformat='.10f')\n",
    ")\n",
    "fig2.show()"
   ]
  },
  {
   "cell_type": "markdown",
   "id": "13fd4298",
   "metadata": {},
   "source": [
    "Задача"
   ]
  },
  {
   "cell_type": "code",
   "execution_count": 1,
   "id": "396d10c1",
   "metadata": {},
   "outputs": [
    {
     "name": "stdout",
     "output_type": "stream",
     "text": [
      "\n",
      "Оптимальный угол: 35°, дальность: 133.35 м\n",
      "\n"
     ]
    },
    {
     "data": {
      "application/vnd.plotly.v1+json": {
       "config": {
        "plotlyServerURL": "https://plot.ly"
       },
       "data": [
        {
         "mode": "lines",
         "name": "30°",
         "type": "scatter",
         "x": {
          "bdata": "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",
          "dtype": "f8"
         },
         "y": {
          "bdata": "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",
          "dtype": "f8"
         }
        },
        {
         "mode": "lines",
         "name": "35°",
         "type": "scatter",
         "x": {
          "bdata": "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",
          "dtype": "f8"
         },
         "y": {
          "bdata": "AAAAAAAAAACO/ORZlk7SP71kZyVzQuI/Fhw8B31R6z/0BRP3NiryPxCp2nmlpfY/lbyrlwwb+z98Fi3bbor/P7N7+2bn+QFA9DFKfJcrBECjPkLxSFoGQNDsHQn9hQhAxu2SBrWuCkCNBNMrctQMQDGxjLo19w5A3u31eYCLEEB3P02M6pkRQF2pYLTZphJAPzsEkk6yE0B7DczESbwUQP+VDOzLxBVABf3aptXLFkC2cQ2UZ9EXQK9+O1KC1RhAZV6+fybYGUBzT7G6VNkaQMro8aAN2RtAxm0g0FHXHEArIqDlIdQdQASel35+zx5AbiHxN2jJH0AkdC3X72AgQOi+I79y3CBADwj3IT1XIUDMYaVNT9EhQCGDD5CpSiJAg/H4NkzDIkBuKgiQNzsjQPHMxuhrsiNANMOhjukoJEDxa+nOsJ4kQOPD0fbBEyVAMI9yUx2IJUDKgscxw/slQMZtsN6zbiZArWLxpu/gJkDF4DLXdlInQFb9AbxJwydA44zQoWgzKEBgTPXU06IoQGUKrKGLESlAVtAVVJB/KUCHCzk44uwpQF+2AZqBWSpAcoFBxW7FKkCZ/K8FqjArQAfA6qYzmytAVpV19AsFLECYoLo5M24sQF+JCsKp1ixAxaOc2G8+LUB0GY/IhaUtQKgS59zrCy5AMt+QYKJxLkB8H2CeqdYuQIjtD+EBOy9A8gVDc6ueL0B5+MFP0wAwQK2VItj5MTBA0Kfwd8liMEBsn01UQpMwQOEkT5JkwzBA5iz/VjDzMEAQDVzHpSIxQFWQWAjFUTFAlwvcPo6AMUAtcsKPAa8xQG1q3B8f3TFAOmLvE+cKMkCWo7WQWTgyQDNp3rp2ZTJACPMNtz6SMkDpmt2psb4yQCTp27fP6jJAHqmMBZkWM0D3/Wi3DUIzQC533/EtbTNATCVU2fmXM0CTriCSccIzQK5jlECV7DNAaVT0CGUWNEBvZHsP4T80QAhgWngJaTRA4BC4Z96RNEDSUrEBYLo0QLgoWWqO4jRARdG4xWkKNUDg28838jE1QIQ9lOQnWTVAsGXy7wqANUBSU819m6Y1QL+p/rHZzDVAtcVWsMXyNUBc0pycXxg2QFbejpqnPTZA0/DhzZ1iNkCvHkJaQoc2QJafUmOVqzZANOOtDJfPNkBppuV5R/M2QIoIg86mFjdAqqAGLrU5N0Dqkui7clw3QNelmJvffjdAz1d+8PugN0Bu9Pjdx8I3QAyqX4dD5DdAP58BEG8FOEBrCCabSiY4QFw9DEzWRjhA7M7rRRJnOECznPSr/oY4QMbqTqGbpjhAfncbSenFOEBNkXPG5+Q4QKIsaTyXAzlA0/kGzvchOUAde1CeCUA5QKoaQtDMXTlApUDRhkF7OUBhaezkZ5g5QIo7ew1AtTlAYp5eI8rROUAR0HBJBu45QAN8haL0CTpAUdFpUZUlOkA+meR46EA6QMBNtjvuWzpAGzCZvKZ2OkCLX0EeEpE6QPzvXIMwqzpA1gCUDgLFOkDZ04jiht46QAjk1yG/9zpApvwX76oQO0BEUNpsSik7QOOPqr2dQTtAJgIPBKVZO0CUmohiYHE7QPEQk/vPiDtAqPik8fOfO0BF2C9nzLY7QAVBoH5ZzTtAeuZdWpvjO0BBtssckvk7QMzvR+g9DzxAQTws354kPEBtxs0jtTk8QMlSfdiATjxAm1eHHwJjPEAkFTQbOXc8QOatx+0lizxABT+CuciePEC0+J+gIbI8QME2WcUwxTxAMZniSfbXPED2HG1Qcuo8QLw0Jvuk/DxAyuE3bI4OPUD9zMjFLiA9QNhf/CmGMT1AsN3yupRCPUDqfMmaWlM9QFWAmuvXYz1AnFB9zwx0PUDQlYZo+YM9QApRyNidkz1AJvZRQvqiPUCahTDHDrI9QGKmbonbwD1ACMAUq2DPPUDGFClOnt09QMHbr5SU6z1AYFuroEP5PUC6AxyUqwY+QCCJAJHMEz5Axv5VuaYgPkB98RcvOi0+QJSCQBSHOT5AyoLIio1FPkBhjae0TVE+QEsj1LPHXD5AdcZDqvtnPkAoFeu56XI+QI3lvQSSfT5AR2GvrPSHPkAuIbLTEZI+QCRJuJvpmz5ACKSzJnylPkDCv5WWya4+QHIJUA3Stz5AtenTrJXAPkAN4RKXFMk+QGKk/u1O0T5AoTmJ00TZPkB7FKVp9uA+QDwzRdJj6D5AxjtdL43vPkCjmOGicvY+QDqWx04U/T5AHYAFVXIDP0B6vpLXjAk/QKLzZ/hjDz9Athl/2fcUP0BsoNOcSBo/QPSKYmRWHz9A+40qUiEkP0DKLSyIqSg/QIbcaSjvLD9AihjoVPIwP0Dhiq0vszQ/QN0lw9oxOD9Ay0M0eG47P0DIxQ4qaT4/QK4yYxIiQT9AItZEU5lDP0DC38kOz0U/QGmCC2fDRz9AlxMmfnZJP0DzKjl26Eo/QOvBZ3EZTD9AcFPYkQlNP0DR+7T5uE0/QLCYK8snTj9AFOltKFZOP0CarbEzRE4/QMDIMA/yTT9ATF8p3V9NP0DO+N2/jUw/QEGgldl7Sz9AxgScTCpKP0B3mkE7mUg/QFq728fIRj9AbcjEFLlEP0DMSlxEakI/QPAUB3ncPz9ADGQv1Q89P0CCAUV7BDo/QG5kvY26Nj9AUdMTLzIzP0DQhcmBay8/QI3GZahmKz9AGRV2xSMnP0D/R477oiI/QOKuSG3kHT9AuTRGPegYP0Adgi6OrhM/QLAfsII3Dj9AmpiAPYMIP0AbnVzhkQI/QDQlCJFj/D5AY5NOb/j1PkB41wKfUO8+QHeR/0Js6D5AlzQnfkvhPkBMKmRz7tk+QGr1qEVV0j5AWVXwF4DKPkBZaT0Nb8I+QNnTm0giuj5A4d0f7ZmxPkCLmuYd1qg+QIwKFv7Wnz5AzD/dsJyWPkAQgXRZJ40+QLNtHRt3gz5AZiEjGYx5PkAKWNp2Zm8+QIuRoVcGZT5AzzXh3mtaPkCwuAswl08+QP+9nW6IRD5Alj0evj85PkBwpx5CvS0+QNAHOx4BIj5AaisadgsWPkCfw21t3Ak+QLiK8id0/T1ALWhwydLwPUDylLp1+OM9QM2/r1Dl1j1ArTE6fpnJPUAK8k8iFbw9QErr8mBYrj1AKQ8xXmOgPUAieyQ+NpI9QN+c8yTRgz1ArFbRNjR1PUDnI/2XX2Y9QHQ9w2xTVz1AMr582Q9IPUBvx48ClTg9QF6lbwzjKD1AhfOcG/oYPUAywaVU2gg9QOi1JdyD+DxAyDXG1vbnPED8hT5pM9c8QBnxU7g5xjxAfevZ6Am1PECrN7IfpKM8QJsKzYEIkjxACjApNDeAPEC+LtRbMG48QMVs6h30WzxAqlOXn4JJPECldBUG3DY8QLqsrnYAJDxA2Ui8FvAQPEDpKacLq/07QM3o53ox6jtAYPoGioPWO0Bg05xeocI7QE4MUh6LrjtAQ4Xf7kCaO0C1iQ72woU7QC/0uFkRcTtA+lHJPyxcO0C5BjvOE0c7QPFvGivIMTtAhgiFfEkcO0AkjKnolwY7QJoayJWz8DpAIVsyqpzaOkCUn0tMU8Q6QJIHiaLXrTpAkqNx0ymXOkDil54FSoA6QI8/u184aTpAQk+FCPVROkAB+MwmgDo6QN4JdeHZIjpAkxZzXwILOkAHlM/H+fI5QL/+pUHA2jlANfwk9FXCOUAifY4Gu6k5QKnfN6DvkDlAbRGK6PN3OUCWsQEHyF45QLgyLyNsRTlAp/y2ZOArOUAxjlHzJBI5QMGey/Y5+DhA7j8Glx/eOEDq/vb71cM4QOAFqE1dqThANj04tLWOOEC6bNtX33M4QK9c2mDaWDhAy/aS96Y9OEAVZ3hERSI4QK08E3C1BjhAe4oBo/fqN0DDB/cFDM83QKQwvcHysjdAe2Yz/6uWN0AqEE/nN3o3QE+6G6OWXTdAWje7W8hAN0CKv2U6zSM3QNcQamilBjdAvo4tD1HpNkD3YSxY0Ms2QBGY+WwjrjZA80I/d0qQNkBMmL6gRXI2QOEQUBMVVDZAzIfj+Lg1NkCbWYB7MRc2QF2DRcV++DVAlsFpAKHZNUAYrztXmLo1QMvjIfRkmzVAWRObAQd8NUDGKz6qflw1QO9zuhjMPDVA9qnXd+8cNUCYIXby6Pw0QGnijrO43DRAAsYz5l68NEARlo+125s0QF8q5kwvezRAuoaU11laNEDN+BCBWzk0QOc163Q0GDRArXjM3uT2M0C5nnfqbNUzQClGycPMszNAG+u3lgSSM0AXBVSPFHAzQJDSxBf1TTNAO/CFxZYrM0Bgo8Kc+QgzQEQl66Ed5jJAAHR32QLDMkC2U+dHqZ8yQLBPwvEQfDJAXLuX2zlYMkA2s/4JJDQyQI4dloHPDzJAOqsERzzrMUAs2PheasYxQPDrKM5ZoTFAEPpSmQp8MUBf4jzFfFYxQC9RtFawMDFAbL+OUqUKMUCicqm9W+QwQO186ZzTvTBA0rw79QyXMEAC3ZTLB3AwQAZU8STESDBA3GNVBkIhMEDtMprpAvMvQGCY2OoEoy9ATTqdGopSL0AK7S6DkgEvQG8V5C4esC5AIqciKC1eLkC0ImB5vwsuQKGTIS3VuC1ALI77TW5lLUAULZLmihEtQCsPmQErvSxAzVTTqU5oLEAwnRPq9RIsQJsDPM0gvStAehw+Xs9mK0BT8hqoARArQJ4C47W3uCpAfzq2kvFgKkBi88NJrwgqQH3vSubwrylAM1aZc7ZWKUBdsAz9//woQHjkEY7NoihAuTIlMh9IKEAFMdL09OwnQNXGs+FOkSdA+ih0BC01J0BN1cxoj9gmQEeOhhp2eyZAf1Z5JeEdJkATbIyV0L8lQPtDtnZEYSVARIX81DwCJUA1BHS8uaIkQGK9QDm7QiRAptCVV0HiI0ALfLUjTIEjQJwW8anbHyNAJQup9u+9IkDg0kwWiVsiQA3wWhWn+CFAeOhgAEqVIUDuP/vjcTEhQJ5y1cwezSBAau+px1BoIEAmEkLhBwMgQI877EyIOh9AAG1aSAtuHkCct7rOmKAdQO3EFvow0hxA69yV5NMCHEC12XyogTIbQC4bLmA6YRpAgHopJv6OGUB7PQwVzbsYQN8JkUen5xdAgtiP2IwSF0Bg6P3ifTwWQJCx7YF6ZRVAGdiO0IKNFECzHi7qlrQTQGpZNeq22hJAKWAr7OL/EUAwAbQLGyQRQGnzj2RfRxBAXpE5JWDTDkDtv6ljGhYNQMKunrztVgtAePx/aNqVCUDMje6f4NIHQEFxxJsADgZAlcIUlTpHBEAQjivFjn4CQKazjWX9swBA4pPxXw3P/T8JAsa8VTL6Py8K9lXUkfY/EMJPoInt8j/ogiMi7IruPz/N1Ts0M+c/7Gno89in3z/KUTiTK9rQP/iCRxkj1p8/LE6ZpgLdyb8=",
          "dtype": "f8"
         }
        },
        {
         "mode": "lines",
         "name": "40°",
         "type": "scatter",
         "x": {
          "bdata": "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",
          "dtype": "f8"
         },
         "y": {
          "bdata": "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",
          "dtype": "f8"
         }
        },
        {
         "mode": "lines",
         "name": "45°",
         "type": "scatter",
         "x": {
          "bdata": "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",
          "dtype": "f8"
         },
         "y": {
          "bdata": "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",
          "dtype": "f8"
         }
        },
        {
         "mode": "lines",
         "name": "50°",
         "type": "scatter",
         "x": {
          "bdata": "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",
          "dtype": "f8"
         },
         "y": {
          "bdata": "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",
          "dtype": "f8"
         }
        },
        {
         "mode": "lines",
         "name": "55°",
         "type": "scatter",
         "x": {
          "bdata": "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",
          "dtype": "f8"
         },
         "y": {
          "bdata": "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",
          "dtype": "f8"
         }
        },
        {
         "mode": "lines",
         "name": "60°",
         "type": "scatter",
         "x": {
          "bdata": "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",
          "dtype": "f8"
         },
         "y": {
          "bdata": "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",
          "dtype": "f8"
         }
        },
        {
         "mode": "lines",
         "name": "65°",
         "type": "scatter",
         "x": {
          "bdata": "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",
          "dtype": "f8"
         },
         "y": {
          "bdata": "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",
          "dtype": "f8"
         }
        },
        {
         "mode": "lines",
         "name": "70°",
         "type": "scatter",
         "x": {
          "bdata": "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",
          "dtype": "f8"
         },
         "y": {
          "bdata": "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",
          "dtype": "f8"
         }
        },
        {
         "mode": "lines",
         "name": "75°",
         "type": "scatter",
         "x": {
          "bdata": "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",
          "dtype": "f8"
         },
         "y": {
          "bdata": "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",
          "dtype": "f8"
         }
        },
        {
         "mode": "lines",
         "name": "80°",
         "type": "scatter",
         "x": {
          "bdata": "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",
          "dtype": "f8"
         },
         "y": {
          "bdata": "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",
          "dtype": "f8"
         }
        }
       ],
       "layout": {
        "template": {
         "data": {
          "bar": [
           {
            "error_x": {
             "color": "#2a3f5f"
            },
            "error_y": {
             "color": "#2a3f5f"
            },
            "marker": {
             "line": {
              "color": "#E5ECF6",
              "width": 0.5
             },
             "pattern": {
              "fillmode": "overlay",
              "size": 10,
              "solidity": 0.2
             }
            },
            "type": "bar"
           }
          ],
          "barpolar": [
           {
            "marker": {
             "line": {
              "color": "#E5ECF6",
              "width": 0.5
             },
             "pattern": {
              "fillmode": "overlay",
              "size": 10,
              "solidity": 0.2
             }
            },
            "type": "barpolar"
           }
          ],
          "carpet": [
           {
            "aaxis": {
             "endlinecolor": "#2a3f5f",
             "gridcolor": "white",
             "linecolor": "white",
             "minorgridcolor": "white",
             "startlinecolor": "#2a3f5f"
            },
            "baxis": {
             "endlinecolor": "#2a3f5f",
             "gridcolor": "white",
             "linecolor": "white",
             "minorgridcolor": "white",
             "startlinecolor": "#2a3f5f"
            },
            "type": "carpet"
           }
          ],
          "choropleth": [
           {
            "colorbar": {
             "outlinewidth": 0,
             "ticks": ""
            },
            "type": "choropleth"
           }
          ],
          "contour": [
           {
            "colorbar": {
             "outlinewidth": 0,
             "ticks": ""
            },
            "colorscale": [
             [
              0,
              "#0d0887"
             ],
             [
              0.1111111111111111,
              "#46039f"
             ],
             [
              0.2222222222222222,
              "#7201a8"
             ],
             [
              0.3333333333333333,
              "#9c179e"
             ],
             [
              0.4444444444444444,
              "#bd3786"
             ],
             [
              0.5555555555555556,
              "#d8576b"
             ],
             [
              0.6666666666666666,
              "#ed7953"
             ],
             [
              0.7777777777777778,
              "#fb9f3a"
             ],
             [
              0.8888888888888888,
              "#fdca26"
             ],
             [
              1,
              "#f0f921"
             ]
            ],
            "type": "contour"
           }
          ],
          "contourcarpet": [
           {
            "colorbar": {
             "outlinewidth": 0,
             "ticks": ""
            },
            "type": "contourcarpet"
           }
          ],
          "heatmap": [
           {
            "colorbar": {
             "outlinewidth": 0,
             "ticks": ""
            },
            "colorscale": [
             [
              0,
              "#0d0887"
             ],
             [
              0.1111111111111111,
              "#46039f"
             ],
             [
              0.2222222222222222,
              "#7201a8"
             ],
             [
              0.3333333333333333,
              "#9c179e"
             ],
             [
              0.4444444444444444,
              "#bd3786"
             ],
             [
              0.5555555555555556,
              "#d8576b"
             ],
             [
              0.6666666666666666,
              "#ed7953"
             ],
             [
              0.7777777777777778,
              "#fb9f3a"
             ],
             [
              0.8888888888888888,
              "#fdca26"
             ],
             [
              1,
              "#f0f921"
             ]
            ],
            "type": "heatmap"
           }
          ],
          "histogram": [
           {
            "marker": {
             "pattern": {
              "fillmode": "overlay",
              "size": 10,
              "solidity": 0.2
             }
            },
            "type": "histogram"
           }
          ],
          "histogram2d": [
           {
            "colorbar": {
             "outlinewidth": 0,
             "ticks": ""
            },
            "colorscale": [
             [
              0,
              "#0d0887"
             ],
             [
              0.1111111111111111,
              "#46039f"
             ],
             [
              0.2222222222222222,
              "#7201a8"
             ],
             [
              0.3333333333333333,
              "#9c179e"
             ],
             [
              0.4444444444444444,
              "#bd3786"
             ],
             [
              0.5555555555555556,
              "#d8576b"
             ],
             [
              0.6666666666666666,
              "#ed7953"
             ],
             [
              0.7777777777777778,
              "#fb9f3a"
             ],
             [
              0.8888888888888888,
              "#fdca26"
             ],
             [
              1,
              "#f0f921"
             ]
            ],
            "type": "histogram2d"
           }
          ],
          "histogram2dcontour": [
           {
            "colorbar": {
             "outlinewidth": 0,
             "ticks": ""
            },
            "colorscale": [
             [
              0,
              "#0d0887"
             ],
             [
              0.1111111111111111,
              "#46039f"
             ],
             [
              0.2222222222222222,
              "#7201a8"
             ],
             [
              0.3333333333333333,
              "#9c179e"
             ],
             [
              0.4444444444444444,
              "#bd3786"
             ],
             [
              0.5555555555555556,
              "#d8576b"
             ],
             [
              0.6666666666666666,
              "#ed7953"
             ],
             [
              0.7777777777777778,
              "#fb9f3a"
             ],
             [
              0.8888888888888888,
              "#fdca26"
             ],
             [
              1,
              "#f0f921"
             ]
            ],
            "type": "histogram2dcontour"
           }
          ],
          "mesh3d": [
           {
            "colorbar": {
             "outlinewidth": 0,
             "ticks": ""
            },
            "type": "mesh3d"
           }
          ],
          "parcoords": [
           {
            "line": {
             "colorbar": {
              "outlinewidth": 0,
              "ticks": ""
             }
            },
            "type": "parcoords"
           }
          ],
          "pie": [
           {
            "automargin": true,
            "type": "pie"
           }
          ],
          "scatter": [
           {
            "fillpattern": {
             "fillmode": "overlay",
             "size": 10,
             "solidity": 0.2
            },
            "type": "scatter"
           }
          ],
          "scatter3d": [
           {
            "line": {
             "colorbar": {
              "outlinewidth": 0,
              "ticks": ""
             }
            },
            "marker": {
             "colorbar": {
              "outlinewidth": 0,
              "ticks": ""
             }
            },
            "type": "scatter3d"
           }
          ],
          "scattercarpet": [
           {
            "marker": {
             "colorbar": {
              "outlinewidth": 0,
              "ticks": ""
             }
            },
            "type": "scattercarpet"
           }
          ],
          "scattergeo": [
           {
            "marker": {
             "colorbar": {
              "outlinewidth": 0,
              "ticks": ""
             }
            },
            "type": "scattergeo"
           }
          ],
          "scattergl": [
           {
            "marker": {
             "colorbar": {
              "outlinewidth": 0,
              "ticks": ""
             }
            },
            "type": "scattergl"
           }
          ],
          "scattermap": [
           {
            "marker": {
             "colorbar": {
              "outlinewidth": 0,
              "ticks": ""
             }
            },
            "type": "scattermap"
           }
          ],
          "scattermapbox": [
           {
            "marker": {
             "colorbar": {
              "outlinewidth": 0,
              "ticks": ""
             }
            },
            "type": "scattermapbox"
           }
          ],
          "scatterpolar": [
           {
            "marker": {
             "colorbar": {
              "outlinewidth": 0,
              "ticks": ""
             }
            },
            "type": "scatterpolar"
           }
          ],
          "scatterpolargl": [
           {
            "marker": {
             "colorbar": {
              "outlinewidth": 0,
              "ticks": ""
             }
            },
            "type": "scatterpolargl"
           }
          ],
          "scatterternary": [
           {
            "marker": {
             "colorbar": {
              "outlinewidth": 0,
              "ticks": ""
             }
            },
            "type": "scatterternary"
           }
          ],
          "surface": [
           {
            "colorbar": {
             "outlinewidth": 0,
             "ticks": ""
            },
            "colorscale": [
             [
              0,
              "#0d0887"
             ],
             [
              0.1111111111111111,
              "#46039f"
             ],
             [
              0.2222222222222222,
              "#7201a8"
             ],
             [
              0.3333333333333333,
              "#9c179e"
             ],
             [
              0.4444444444444444,
              "#bd3786"
             ],
             [
              0.5555555555555556,
              "#d8576b"
             ],
             [
              0.6666666666666666,
              "#ed7953"
             ],
             [
              0.7777777777777778,
              "#fb9f3a"
             ],
             [
              0.8888888888888888,
              "#fdca26"
             ],
             [
              1,
              "#f0f921"
             ]
            ],
            "type": "surface"
           }
          ],
          "table": [
           {
            "cells": {
             "fill": {
              "color": "#EBF0F8"
             },
             "line": {
              "color": "white"
             }
            },
            "header": {
             "fill": {
              "color": "#C8D4E3"
             },
             "line": {
              "color": "white"
             }
            },
            "type": "table"
           }
          ]
         },
         "layout": {
          "annotationdefaults": {
           "arrowcolor": "#2a3f5f",
           "arrowhead": 0,
           "arrowwidth": 1
          },
          "autotypenumbers": "strict",
          "coloraxis": {
           "colorbar": {
            "outlinewidth": 0,
            "ticks": ""
           }
          },
          "colorscale": {
           "diverging": [
            [
             0,
             "#8e0152"
            ],
            [
             0.1,
             "#c51b7d"
            ],
            [
             0.2,
             "#de77ae"
            ],
            [
             0.3,
             "#f1b6da"
            ],
            [
             0.4,
             "#fde0ef"
            ],
            [
             0.5,
             "#f7f7f7"
            ],
            [
             0.6,
             "#e6f5d0"
            ],
            [
             0.7,
             "#b8e186"
            ],
            [
             0.8,
             "#7fbc41"
            ],
            [
             0.9,
             "#4d9221"
            ],
            [
             1,
             "#276419"
            ]
           ],
           "sequential": [
            [
             0,
             "#0d0887"
            ],
            [
             0.1111111111111111,
             "#46039f"
            ],
            [
             0.2222222222222222,
             "#7201a8"
            ],
            [
             0.3333333333333333,
             "#9c179e"
            ],
            [
             0.4444444444444444,
             "#bd3786"
            ],
            [
             0.5555555555555556,
             "#d8576b"
            ],
            [
             0.6666666666666666,
             "#ed7953"
            ],
            [
             0.7777777777777778,
             "#fb9f3a"
            ],
            [
             0.8888888888888888,
             "#fdca26"
            ],
            [
             1,
             "#f0f921"
            ]
           ],
           "sequentialminus": [
            [
             0,
             "#0d0887"
            ],
            [
             0.1111111111111111,
             "#46039f"
            ],
            [
             0.2222222222222222,
             "#7201a8"
            ],
            [
             0.3333333333333333,
             "#9c179e"
            ],
            [
             0.4444444444444444,
             "#bd3786"
            ],
            [
             0.5555555555555556,
             "#d8576b"
            ],
            [
             0.6666666666666666,
             "#ed7953"
            ],
            [
             0.7777777777777778,
             "#fb9f3a"
            ],
            [
             0.8888888888888888,
             "#fdca26"
            ],
            [
             1,
             "#f0f921"
            ]
           ]
          },
          "colorway": [
           "#636efa",
           "#EF553B",
           "#00cc96",
           "#ab63fa",
           "#FFA15A",
           "#19d3f3",
           "#FF6692",
           "#B6E880",
           "#FF97FF",
           "#FECB52"
          ],
          "font": {
           "color": "#2a3f5f"
          },
          "geo": {
           "bgcolor": "white",
           "lakecolor": "white",
           "landcolor": "#E5ECF6",
           "showlakes": true,
           "showland": true,
           "subunitcolor": "white"
          },
          "hoverlabel": {
           "align": "left"
          },
          "hovermode": "closest",
          "mapbox": {
           "style": "light"
          },
          "paper_bgcolor": "white",
          "plot_bgcolor": "#E5ECF6",
          "polar": {
           "angularaxis": {
            "gridcolor": "white",
            "linecolor": "white",
            "ticks": ""
           },
           "bgcolor": "#E5ECF6",
           "radialaxis": {
            "gridcolor": "white",
            "linecolor": "white",
            "ticks": ""
           }
          },
          "scene": {
           "xaxis": {
            "backgroundcolor": "#E5ECF6",
            "gridcolor": "white",
            "gridwidth": 2,
            "linecolor": "white",
            "showbackground": true,
            "ticks": "",
            "zerolinecolor": "white"
           },
           "yaxis": {
            "backgroundcolor": "#E5ECF6",
            "gridcolor": "white",
            "gridwidth": 2,
            "linecolor": "white",
            "showbackground": true,
            "ticks": "",
            "zerolinecolor": "white"
           },
           "zaxis": {
            "backgroundcolor": "#E5ECF6",
            "gridcolor": "white",
            "gridwidth": 2,
            "linecolor": "white",
            "showbackground": true,
            "ticks": "",
            "zerolinecolor": "white"
           }
          },
          "shapedefaults": {
           "line": {
            "color": "#2a3f5f"
           }
          },
          "ternary": {
           "aaxis": {
            "gridcolor": "white",
            "linecolor": "white",
            "ticks": ""
           },
           "baxis": {
            "gridcolor": "white",
            "linecolor": "white",
            "ticks": ""
           },
           "bgcolor": "#E5ECF6",
           "caxis": {
            "gridcolor": "white",
            "linecolor": "white",
            "ticks": ""
           }
          },
          "title": {
           "x": 0.05
          },
          "xaxis": {
           "automargin": true,
           "gridcolor": "white",
           "linecolor": "white",
           "ticks": "",
           "title": {
            "standoff": 15
           },
           "zerolinecolor": "white",
           "zerolinewidth": 2
          },
          "yaxis": {
           "automargin": true,
           "gridcolor": "white",
           "linecolor": "white",
           "ticks": "",
           "title": {
            "standoff": 15
           },
           "zerolinecolor": "white",
           "zerolinewidth": 2
          }
         }
        },
        "title": {
         "text": "Траектории для разных углов"
        },
        "xaxis": {
         "title": {
          "text": "x, м"
         }
        },
        "yaxis": {
         "title": {
          "text": "y, м"
         }
        }
       }
      }
     },
     "metadata": {},
     "output_type": "display_data"
    },
    {
     "data": {
      "application/vnd.plotly.v1+json": {
       "config": {
        "plotlyServerURL": "https://plot.ly"
       },
       "data": [
        {
         "mode": "lines+markers",
         "type": "scatter",
         "x": [
          30,
          35,
          40,
          45,
          50,
          55,
          60,
          65,
          70,
          75,
          80
         ],
         "y": [
          130.63357805923403,
          133.35227239251455,
          132.6651029369136,
          129.31804028792095,
          123.22667838047366,
          114.64825943726606,
          103.60787666652307,
          90.50808827344218,
          75.35607613947404,
          58.442874294417955,
          40.16975190946999
         ]
        }
       ],
       "layout": {
        "template": {
         "data": {
          "bar": [
           {
            "error_x": {
             "color": "#2a3f5f"
            },
            "error_y": {
             "color": "#2a3f5f"
            },
            "marker": {
             "line": {
              "color": "#E5ECF6",
              "width": 0.5
             },
             "pattern": {
              "fillmode": "overlay",
              "size": 10,
              "solidity": 0.2
             }
            },
            "type": "bar"
           }
          ],
          "barpolar": [
           {
            "marker": {
             "line": {
              "color": "#E5ECF6",
              "width": 0.5
             },
             "pattern": {
              "fillmode": "overlay",
              "size": 10,
              "solidity": 0.2
             }
            },
            "type": "barpolar"
           }
          ],
          "carpet": [
           {
            "aaxis": {
             "endlinecolor": "#2a3f5f",
             "gridcolor": "white",
             "linecolor": "white",
             "minorgridcolor": "white",
             "startlinecolor": "#2a3f5f"
            },
            "baxis": {
             "endlinecolor": "#2a3f5f",
             "gridcolor": "white",
             "linecolor": "white",
             "minorgridcolor": "white",
             "startlinecolor": "#2a3f5f"
            },
            "type": "carpet"
           }
          ],
          "choropleth": [
           {
            "colorbar": {
             "outlinewidth": 0,
             "ticks": ""
            },
            "type": "choropleth"
           }
          ],
          "contour": [
           {
            "colorbar": {
             "outlinewidth": 0,
             "ticks": ""
            },
            "colorscale": [
             [
              0,
              "#0d0887"
             ],
             [
              0.1111111111111111,
              "#46039f"
             ],
             [
              0.2222222222222222,
              "#7201a8"
             ],
             [
              0.3333333333333333,
              "#9c179e"
             ],
             [
              0.4444444444444444,
              "#bd3786"
             ],
             [
              0.5555555555555556,
              "#d8576b"
             ],
             [
              0.6666666666666666,
              "#ed7953"
             ],
             [
              0.7777777777777778,
              "#fb9f3a"
             ],
             [
              0.8888888888888888,
              "#fdca26"
             ],
             [
              1,
              "#f0f921"
             ]
            ],
            "type": "contour"
           }
          ],
          "contourcarpet": [
           {
            "colorbar": {
             "outlinewidth": 0,
             "ticks": ""
            },
            "type": "contourcarpet"
           }
          ],
          "heatmap": [
           {
            "colorbar": {
             "outlinewidth": 0,
             "ticks": ""
            },
            "colorscale": [
             [
              0,
              "#0d0887"
             ],
             [
              0.1111111111111111,
              "#46039f"
             ],
             [
              0.2222222222222222,
              "#7201a8"
             ],
             [
              0.3333333333333333,
              "#9c179e"
             ],
             [
              0.4444444444444444,
              "#bd3786"
             ],
             [
              0.5555555555555556,
              "#d8576b"
             ],
             [
              0.6666666666666666,
              "#ed7953"
             ],
             [
              0.7777777777777778,
              "#fb9f3a"
             ],
             [
              0.8888888888888888,
              "#fdca26"
             ],
             [
              1,
              "#f0f921"
             ]
            ],
            "type": "heatmap"
           }
          ],
          "histogram": [
           {
            "marker": {
             "pattern": {
              "fillmode": "overlay",
              "size": 10,
              "solidity": 0.2
             }
            },
            "type": "histogram"
           }
          ],
          "histogram2d": [
           {
            "colorbar": {
             "outlinewidth": 0,
             "ticks": ""
            },
            "colorscale": [
             [
              0,
              "#0d0887"
             ],
             [
              0.1111111111111111,
              "#46039f"
             ],
             [
              0.2222222222222222,
              "#7201a8"
             ],
             [
              0.3333333333333333,
              "#9c179e"
             ],
             [
              0.4444444444444444,
              "#bd3786"
             ],
             [
              0.5555555555555556,
              "#d8576b"
             ],
             [
              0.6666666666666666,
              "#ed7953"
             ],
             [
              0.7777777777777778,
              "#fb9f3a"
             ],
             [
              0.8888888888888888,
              "#fdca26"
             ],
             [
              1,
              "#f0f921"
             ]
            ],
            "type": "histogram2d"
           }
          ],
          "histogram2dcontour": [
           {
            "colorbar": {
             "outlinewidth": 0,
             "ticks": ""
            },
            "colorscale": [
             [
              0,
              "#0d0887"
             ],
             [
              0.1111111111111111,
              "#46039f"
             ],
             [
              0.2222222222222222,
              "#7201a8"
             ],
             [
              0.3333333333333333,
              "#9c179e"
             ],
             [
              0.4444444444444444,
              "#bd3786"
             ],
             [
              0.5555555555555556,
              "#d8576b"
             ],
             [
              0.6666666666666666,
              "#ed7953"
             ],
             [
              0.7777777777777778,
              "#fb9f3a"
             ],
             [
              0.8888888888888888,
              "#fdca26"
             ],
             [
              1,
              "#f0f921"
             ]
            ],
            "type": "histogram2dcontour"
           }
          ],
          "mesh3d": [
           {
            "colorbar": {
             "outlinewidth": 0,
             "ticks": ""
            },
            "type": "mesh3d"
           }
          ],
          "parcoords": [
           {
            "line": {
             "colorbar": {
              "outlinewidth": 0,
              "ticks": ""
             }
            },
            "type": "parcoords"
           }
          ],
          "pie": [
           {
            "automargin": true,
            "type": "pie"
           }
          ],
          "scatter": [
           {
            "fillpattern": {
             "fillmode": "overlay",
             "size": 10,
             "solidity": 0.2
            },
            "type": "scatter"
           }
          ],
          "scatter3d": [
           {
            "line": {
             "colorbar": {
              "outlinewidth": 0,
              "ticks": ""
             }
            },
            "marker": {
             "colorbar": {
              "outlinewidth": 0,
              "ticks": ""
             }
            },
            "type": "scatter3d"
           }
          ],
          "scattercarpet": [
           {
            "marker": {
             "colorbar": {
              "outlinewidth": 0,
              "ticks": ""
             }
            },
            "type": "scattercarpet"
           }
          ],
          "scattergeo": [
           {
            "marker": {
             "colorbar": {
              "outlinewidth": 0,
              "ticks": ""
             }
            },
            "type": "scattergeo"
           }
          ],
          "scattergl": [
           {
            "marker": {
             "colorbar": {
              "outlinewidth": 0,
              "ticks": ""
             }
            },
            "type": "scattergl"
           }
          ],
          "scattermap": [
           {
            "marker": {
             "colorbar": {
              "outlinewidth": 0,
              "ticks": ""
             }
            },
            "type": "scattermap"
           }
          ],
          "scattermapbox": [
           {
            "marker": {
             "colorbar": {
              "outlinewidth": 0,
              "ticks": ""
             }
            },
            "type": "scattermapbox"
           }
          ],
          "scatterpolar": [
           {
            "marker": {
             "colorbar": {
              "outlinewidth": 0,
              "ticks": ""
             }
            },
            "type": "scatterpolar"
           }
          ],
          "scatterpolargl": [
           {
            "marker": {
             "colorbar": {
              "outlinewidth": 0,
              "ticks": ""
             }
            },
            "type": "scatterpolargl"
           }
          ],
          "scatterternary": [
           {
            "marker": {
             "colorbar": {
              "outlinewidth": 0,
              "ticks": ""
             }
            },
            "type": "scatterternary"
           }
          ],
          "surface": [
           {
            "colorbar": {
             "outlinewidth": 0,
             "ticks": ""
            },
            "colorscale": [
             [
              0,
              "#0d0887"
             ],
             [
              0.1111111111111111,
              "#46039f"
             ],
             [
              0.2222222222222222,
              "#7201a8"
             ],
             [
              0.3333333333333333,
              "#9c179e"
             ],
             [
              0.4444444444444444,
              "#bd3786"
             ],
             [
              0.5555555555555556,
              "#d8576b"
             ],
             [
              0.6666666666666666,
              "#ed7953"
             ],
             [
              0.7777777777777778,
              "#fb9f3a"
             ],
             [
              0.8888888888888888,
              "#fdca26"
             ],
             [
              1,
              "#f0f921"
             ]
            ],
            "type": "surface"
           }
          ],
          "table": [
           {
            "cells": {
             "fill": {
              "color": "#EBF0F8"
             },
             "line": {
              "color": "white"
             }
            },
            "header": {
             "fill": {
              "color": "#C8D4E3"
             },
             "line": {
              "color": "white"
             }
            },
            "type": "table"
           }
          ]
         },
         "layout": {
          "annotationdefaults": {
           "arrowcolor": "#2a3f5f",
           "arrowhead": 0,
           "arrowwidth": 1
          },
          "autotypenumbers": "strict",
          "coloraxis": {
           "colorbar": {
            "outlinewidth": 0,
            "ticks": ""
           }
          },
          "colorscale": {
           "diverging": [
            [
             0,
             "#8e0152"
            ],
            [
             0.1,
             "#c51b7d"
            ],
            [
             0.2,
             "#de77ae"
            ],
            [
             0.3,
             "#f1b6da"
            ],
            [
             0.4,
             "#fde0ef"
            ],
            [
             0.5,
             "#f7f7f7"
            ],
            [
             0.6,
             "#e6f5d0"
            ],
            [
             0.7,
             "#b8e186"
            ],
            [
             0.8,
             "#7fbc41"
            ],
            [
             0.9,
             "#4d9221"
            ],
            [
             1,
             "#276419"
            ]
           ],
           "sequential": [
            [
             0,
             "#0d0887"
            ],
            [
             0.1111111111111111,
             "#46039f"
            ],
            [
             0.2222222222222222,
             "#7201a8"
            ],
            [
             0.3333333333333333,
             "#9c179e"
            ],
            [
             0.4444444444444444,
             "#bd3786"
            ],
            [
             0.5555555555555556,
             "#d8576b"
            ],
            [
             0.6666666666666666,
             "#ed7953"
            ],
            [
             0.7777777777777778,
             "#fb9f3a"
            ],
            [
             0.8888888888888888,
             "#fdca26"
            ],
            [
             1,
             "#f0f921"
            ]
           ],
           "sequentialminus": [
            [
             0,
             "#0d0887"
            ],
            [
             0.1111111111111111,
             "#46039f"
            ],
            [
             0.2222222222222222,
             "#7201a8"
            ],
            [
             0.3333333333333333,
             "#9c179e"
            ],
            [
             0.4444444444444444,
             "#bd3786"
            ],
            [
             0.5555555555555556,
             "#d8576b"
            ],
            [
             0.6666666666666666,
             "#ed7953"
            ],
            [
             0.7777777777777778,
             "#fb9f3a"
            ],
            [
             0.8888888888888888,
             "#fdca26"
            ],
            [
             1,
             "#f0f921"
            ]
           ]
          },
          "colorway": [
           "#636efa",
           "#EF553B",
           "#00cc96",
           "#ab63fa",
           "#FFA15A",
           "#19d3f3",
           "#FF6692",
           "#B6E880",
           "#FF97FF",
           "#FECB52"
          ],
          "font": {
           "color": "#2a3f5f"
          },
          "geo": {
           "bgcolor": "white",
           "lakecolor": "white",
           "landcolor": "#E5ECF6",
           "showlakes": true,
           "showland": true,
           "subunitcolor": "white"
          },
          "hoverlabel": {
           "align": "left"
          },
          "hovermode": "closest",
          "mapbox": {
           "style": "light"
          },
          "paper_bgcolor": "white",
          "plot_bgcolor": "#E5ECF6",
          "polar": {
           "angularaxis": {
            "gridcolor": "white",
            "linecolor": "white",
            "ticks": ""
           },
           "bgcolor": "#E5ECF6",
           "radialaxis": {
            "gridcolor": "white",
            "linecolor": "white",
            "ticks": ""
           }
          },
          "scene": {
           "xaxis": {
            "backgroundcolor": "#E5ECF6",
            "gridcolor": "white",
            "gridwidth": 2,
            "linecolor": "white",
            "showbackground": true,
            "ticks": "",
            "zerolinecolor": "white"
           },
           "yaxis": {
            "backgroundcolor": "#E5ECF6",
            "gridcolor": "white",
            "gridwidth": 2,
            "linecolor": "white",
            "showbackground": true,
            "ticks": "",
            "zerolinecolor": "white"
           },
           "zaxis": {
            "backgroundcolor": "#E5ECF6",
            "gridcolor": "white",
            "gridwidth": 2,
            "linecolor": "white",
            "showbackground": true,
            "ticks": "",
            "zerolinecolor": "white"
           }
          },
          "shapedefaults": {
           "line": {
            "color": "#2a3f5f"
           }
          },
          "ternary": {
           "aaxis": {
            "gridcolor": "white",
            "linecolor": "white",
            "ticks": ""
           },
           "baxis": {
            "gridcolor": "white",
            "linecolor": "white",
            "ticks": ""
           },
           "bgcolor": "#E5ECF6",
           "caxis": {
            "gridcolor": "white",
            "linecolor": "white",
            "ticks": ""
           }
          },
          "title": {
           "x": 0.05
          },
          "xaxis": {
           "automargin": true,
           "gridcolor": "white",
           "linecolor": "white",
           "ticks": "",
           "title": {
            "standoff": 15
           },
           "zerolinecolor": "white",
           "zerolinewidth": 2
          },
          "yaxis": {
           "automargin": true,
           "gridcolor": "white",
           "linecolor": "white",
           "ticks": "",
           "title": {
            "standoff": 15
           },
           "zerolinecolor": "white",
           "zerolinewidth": 2
          }
         }
        },
        "title": {
         "text": "Дальность полёта L(θ)"
        },
        "xaxis": {
         "title": {
          "text": "θ, °"
         }
        },
        "yaxis": {
         "title": {
          "text": "L, м"
         }
        }
       }
      }
     },
     "metadata": {},
     "output_type": "display_data"
    }
   ],
   "source": [
    "import numpy as np\n",
    "import plotly.graph_objects as go\n",
    "\n",
    "\n",
    "def mass_and_thrust(t, m0, mT, ts, T_const):\n",
    "    q = mT/ts if t <= ts else 0.0\n",
    "    rem_fuel = max(0.0, mT - q*t)\n",
    "    m = (m0 - mT) + rem_fuel\n",
    "    return m, q, T_const\n",
    "\n",
    "\n",
    "def rocket_rhs(t, state, params):\n",
    "    x, y, v1, v2 = state\n",
    "    g, C, S, rho, m0, mT, ts, T_const = params\n",
    "\n",
    "    m, q, T = mass_and_thrust(t, m0, mT, ts, T_const)\n",
    "\n",
    "    # абсолютная скорость\n",
    "    v = np.sqrt(v1**2 + v2**2)\n",
    "\n",
    "    # ускорение от тяги и сопротивления\n",
    "    drag_acc = (T - 0.5*C*rho*S*v**2) / m\n",
    "\n",
    "    dx_dt = v1\n",
    "    dy_dt = v2\n",
    "    dv1_dt = drag_acc * (v1/v if v != 0 else 0.0) - (q/m)*v1\n",
    "    dv2_dt = drag_acc * (v2/v if v != 0 else 0.0) - (q/m)*v2 - g\n",
    "\n",
    "    return np.array([dx_dt, dy_dt, dv1_dt, dv2_dt])\n",
    "\n",
    "\n",
    "def rk3_step(f, t, y, h, params):\n",
    "    k1 = f(t,       y, params)\n",
    "    k2 = f(t+0.5*h, y+0.5*h*k1, params)\n",
    "    k3 = f(t + h,  y - h*k1 + 2*h*k2, params)\n",
    "    return y + (h/6.0)*(k1 + 4*k2 + k3)\n",
    "\n",
    "\n",
    "flag = bool(int(input(\"Используем параметры из задания? (1-Да,0-Нет) \")))\n",
    "if flag:\n",
    "    g, C, S, rho = 9.81, 0.2, 0.25, 1.29\n",
    "    m0, mT, ts = 30., 15., 4.\n",
    "    T_const, v0 = 5., 50.\n",
    "    theta_start, theta_end = 30, 80\n",
    "    theta_step = int(input(\"Шаг проверки угла, °: \"))\n",
    "    h = float(input(\"Шаг интегрирования h, с: \"))\n",
    "else:\n",
    "    m0 = float(input(\"m0 [кг]: \"))\n",
    "    mT = float(input(\"mT [кг]: \"))\n",
    "    ts = float(input(\"ts [с]: \"))\n",
    "    C = float(input(\"C: \"))\n",
    "    rho = float(input(\"rho [кг/м3]: \"))\n",
    "    S = float(input(\"S [м2]: \"))\n",
    "    g = float(input(\"g [м/с2]: \"))\n",
    "    T_const = float(input(\"T [Н]: \"))\n",
    "    v0 = float(input(\"v0 [м/с]: \"))\n",
    "    h = float(input(\"h [с]: \"))\n",
    "    theta_start = int(input(\"θ_start [°]: \"))\n",
    "    theta_end = int(input(\"θ_end   [°]: \"))\n",
    "    theta_step = int(input(\"Шаг угла, °: \"))\n",
    "\n",
    "params = (g, C, S, rho, m0, mT, ts, T_const)\n",
    "\n",
    "traj_fig = go.Figure()\n",
    "L_vals, theta_vals = [], []\n",
    "\n",
    "for deg in range(theta_start, theta_end+1, theta_step):\n",
    "    theta = np.radians(deg)\n",
    "    state = np.array([0.0, 0.0, v0*np.cos(theta), v0*np.sin(theta)])\n",
    "    t = 0.0\n",
    "    traj = [[0.0, 0.0]]\n",
    "    while state[1] >= 0.0:\n",
    "        state = rk3_step(rocket_rhs, t, state, h, params)\n",
    "        t += h\n",
    "        traj.append([state[0], state[1]])\n",
    "\n",
    "    traj = np.array(traj)\n",
    "    traj_fig.add_trace(go.Scatter(\n",
    "        x=traj[:, 0], y=traj[:, 1], mode='lines', name=f\"{deg}°\"\n",
    "    ))\n",
    "    L_vals.append(traj[-1, 0])\n",
    "    theta_vals.append(deg)\n",
    "\n",
    "best = np.argmax(L_vals)\n",
    "print(\n",
    "    f\"\\nОптимальный угол: {theta_vals[best]}°, дальность: {L_vals[best]:.2f} м\\n\")\n",
    "\n",
    "traj_fig.update_layout(\n",
    "    title=\"Траектории для разных углов\",\n",
    "    xaxis_title=\"x, м\", yaxis_title=\"y, м\"\n",
    ")\n",
    "traj_fig.show()\n",
    "\n",
    "L_fig = go.Figure(go.Scatter(\n",
    "    x=theta_vals, y=L_vals, mode='lines+markers'\n",
    "))\n",
    "L_fig.update_layout(\n",
    "    title=\"Дальность полёта L(θ)\",\n",
    "    xaxis_title=\"θ, °\", yaxis_title=\"L, м\"\n",
    ")\n",
    "L_fig.show()"
   ]
  }
 ],
 "metadata": {
  "kernelspec": {
   "display_name": "Python 3",
   "language": "python",
   "name": "python3"
  },
  "language_info": {
   "codemirror_mode": {
    "name": "ipython",
    "version": 3
   },
   "file_extension": ".py",
   "mimetype": "text/x-python",
   "name": "python",
   "nbconvert_exporter": "python",
   "pygments_lexer": "ipython3",
   "version": "3.13.2"
  }
 },
 "nbformat": 4,
 "nbformat_minor": 5
}
